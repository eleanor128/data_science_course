{
 "cells": [
  {
   "cell_type": "code",
   "execution_count": 9,
   "metadata": {
    "tags": [
     "remove-input"
    ]
   },
   "outputs": [],
   "source": [
    "from datascience import *\n",
    "import numpy as np\n",
    "path_data = '../../data/'\n",
    "np.set_printoptions(threshold=50)"
   ]
  },
  {
   "cell_type": "markdown",
   "metadata": {},
   "source": [
    "# Sorting Rows\n",
    "\n",
    "\"The NBA is the highest paying professional sports league in the world,\" [reported CNN](http://edition.cnn.com/2015/12/04/sport/gallery/highest-paid-nba-players/) in March 2016. The table `nba_salaries` contains the salaries of all National Basketball Association players in 2015-2016.\n",
    "\n",
    "Each row represents one player. The columns are:\n",
    "\n",
    "| **Column Label**   | Description                                         |\n",
    "|--------------------|-----------------------------------------------------|\n",
    "| `PLAYER`           | Player's name                                       |\n",
    "| `POSITION`         | Player's position on team                           |\n",
    "| `TEAM`             | Team name                                           |\n",
    "|`'15-'16 SALARY`    | Player's salary in 2015-2016, in millions of dollars|\n",
    " \n",
    "The code for the positions is PG (Point Guard), SG (Shooting Guard), PF (Power Forward), SF (Small Forward), and C (Center). But what follows doesn't involve details about how basketball is played.\n",
    "\n",
    "The first row shows that Paul Millsap, Power Forward for the Atlanta Hawks, had a salary of almost $\\$18.7$ million in 2015-2016."
   ]
  },
  {
   "cell_type": "code",
   "execution_count": 10,
   "metadata": {},
   "outputs": [
    {
     "data": {
      "text/html": [
       "<table border=\"1\" class=\"dataframe\">\n",
       "    <thead>\n",
       "        <tr>\n",
       "            <th>RANK</th> <th>PLAYER</th> <th>POSITION</th> <th>TEAM</th> <th>SALARY ($M)</th>\n",
       "        </tr>\n",
       "    </thead>\n",
       "    <tbody>\n",
       "        <tr>\n",
       "            <td>1   </td> <td>Kobe Bryant    </td> <td>SF      </td> <td>Los Angeles Lakers   </td> <td>25         </td>\n",
       "        </tr>\n",
       "        <tr>\n",
       "            <td>2   </td> <td>Joe Johnson    </td> <td>SF      </td> <td>Brooklyn Nets        </td> <td>24.8949    </td>\n",
       "        </tr>\n",
       "        <tr>\n",
       "            <td>3   </td> <td>LeBron James   </td> <td>SF      </td> <td>Cleveland Cavaliers  </td> <td>22.9705    </td>\n",
       "        </tr>\n",
       "        <tr>\n",
       "            <td>4   </td> <td>Carmelo Anthony</td> <td>SF      </td> <td>New York Knicks      </td> <td>22.875     </td>\n",
       "        </tr>\n",
       "        <tr>\n",
       "            <td>5   </td> <td>Dwight Howard  </td> <td>C       </td> <td>Houston Rockets      </td> <td>22.3594    </td>\n",
       "        </tr>\n",
       "        <tr>\n",
       "            <td>6   </td> <td>Chris Bosh     </td> <td>PF      </td> <td>Miami Heat           </td> <td>22.1927    </td>\n",
       "        </tr>\n",
       "        <tr>\n",
       "            <td>7   </td> <td>Chris Paul     </td> <td>PG      </td> <td>Los Angeles Clippers </td> <td>21.4687    </td>\n",
       "        </tr>\n",
       "        <tr>\n",
       "            <td>8   </td> <td>Kevin Durant   </td> <td>SF      </td> <td>Oklahoma City Thunder</td> <td>20.1586    </td>\n",
       "        </tr>\n",
       "        <tr>\n",
       "            <td>9   </td> <td>Derrick Rose   </td> <td>PG      </td> <td>Chicago Bulls        </td> <td>20.0931    </td>\n",
       "        </tr>\n",
       "        <tr>\n",
       "            <td>10  </td> <td>Dwyane Wade    </td> <td>SG      </td> <td>Miami Heat           </td> <td>20         </td>\n",
       "        </tr>\n",
       "    </tbody>\n",
       "</table>\n",
       "<p>... (407 rows omitted)</p>"
      ],
      "text/plain": [
       "RANK | PLAYER          | POSITION | TEAM                  | SALARY ($M)\n",
       "1    | Kobe Bryant     | SF       | Los Angeles Lakers    | 25\n",
       "2    | Joe Johnson     | SF       | Brooklyn Nets         | 24.8949\n",
       "3    | LeBron James    | SF       | Cleveland Cavaliers   | 22.9705\n",
       "4    | Carmelo Anthony | SF       | New York Knicks       | 22.875\n",
       "5    | Dwight Howard   | C        | Houston Rockets       | 22.3594\n",
       "6    | Chris Bosh      | PF       | Miami Heat            | 22.1927\n",
       "7    | Chris Paul      | PG       | Los Angeles Clippers  | 21.4687\n",
       "8    | Kevin Durant    | SF       | Oklahoma City Thunder | 20.1586\n",
       "9    | Derrick Rose    | PG       | Chicago Bulls         | 20.0931\n",
       "10   | Dwyane Wade     | SG       | Miami Heat            | 20\n",
       "... (407 rows omitted)"
      ]
     },
     "execution_count": 10,
     "metadata": {},
     "output_type": "execute_result"
    }
   ],
   "source": [
    "# This table can be found online: https://www.statcrunch.com/app/index.php?dataid=1843341\n",
    "# data = 'https://www.statcrunch.com/app/index.php?dataid=1843341'\n",
    "nba_salaries = Table.read_table(path_data + 'NBA.csv')\n",
    "\n",
    "nba_salaries"
   ]
  },
  {
   "cell_type": "markdown",
   "metadata": {},
   "source": [
    "The table contains 417 rows, one for each player. Only 10 of the rows are displayed. The `show` method allows us to specify the number of rows, with the default (no specification) being all the rows of the table."
   ]
  },
  {
   "cell_type": "code",
   "execution_count": 11,
   "metadata": {},
   "outputs": [
    {
     "data": {
      "text/html": [
       "<table border=\"1\" class=\"dataframe\">\n",
       "    <thead>\n",
       "        <tr>\n",
       "            <th>RANK</th> <th>PLAYER</th> <th>POSITION</th> <th>TEAM</th> <th>SALARY ($M)</th>\n",
       "        </tr>\n",
       "    </thead>\n",
       "    <tbody>\n",
       "        <tr>\n",
       "            <td>1   </td> <td>Kobe Bryant </td> <td>SF      </td> <td>Los Angeles Lakers </td> <td>25         </td>\n",
       "        </tr>\n",
       "        <tr>\n",
       "            <td>2   </td> <td>Joe Johnson </td> <td>SF      </td> <td>Brooklyn Nets      </td> <td>24.8949    </td>\n",
       "        </tr>\n",
       "        <tr>\n",
       "            <td>3   </td> <td>LeBron James</td> <td>SF      </td> <td>Cleveland Cavaliers</td> <td>22.9705    </td>\n",
       "        </tr>\n",
       "    </tbody>\n",
       "</table>\n",
       "<p>... (414 rows omitted)</p>"
      ],
      "text/plain": [
       "<IPython.core.display.HTML object>"
      ]
     },
     "metadata": {},
     "output_type": "display_data"
    }
   ],
   "source": [
    "nba_salaries.show(3)"
   ]
  },
  {
   "cell_type": "markdown",
   "metadata": {},
   "source": [
    "Glance through about 20 rows or so, and you will see that the rows are in alphabetical order by team name. It's also possible to list the same rows in alphabetical order by player name using the `sort` method. The argument to `sort` is a column label or index."
   ]
  },
  {
   "cell_type": "code",
   "execution_count": 12,
   "metadata": {},
   "outputs": [
    {
     "data": {
      "text/html": [
       "<table border=\"1\" class=\"dataframe\">\n",
       "    <thead>\n",
       "        <tr>\n",
       "            <th>RANK</th> <th>PLAYER</th> <th>POSITION</th> <th>TEAM</th> <th>SALARY ($M)</th>\n",
       "        </tr>\n",
       "    </thead>\n",
       "    <tbody>\n",
       "        <tr>\n",
       "            <td>249 </td> <td>Aaron Brooks  </td> <td>PG      </td> <td>Chicago Bulls         </td> <td>2.25       </td>\n",
       "        </tr>\n",
       "        <tr>\n",
       "            <td>166 </td> <td>Aaron Gordon  </td> <td>PF      </td> <td>Orlando Magic         </td> <td>4.17168    </td>\n",
       "        </tr>\n",
       "        <tr>\n",
       "            <td>392 </td> <td>Aaron Harrison</td> <td>SG      </td> <td>Charlotte Hornets     </td> <td>0.525093   </td>\n",
       "        </tr>\n",
       "        <tr>\n",
       "            <td>272 </td> <td>Adreian Payne </td> <td>PF      </td> <td>Minnesota Timberwolves</td> <td>1.93884    </td>\n",
       "        </tr>\n",
       "        <tr>\n",
       "            <td>55  </td> <td>Al Horford    </td> <td>C       </td> <td>Atlanta Hawks         </td> <td>12         </td>\n",
       "        </tr>\n",
       "    </tbody>\n",
       "</table>\n",
       "<p>... (412 rows omitted)</p>"
      ],
      "text/plain": [
       "<IPython.core.display.HTML object>"
      ]
     },
     "metadata": {},
     "output_type": "display_data"
    }
   ],
   "source": [
    "nba_salaries.sort('PLAYER').show(5)"
   ]
  },
  {
   "cell_type": "markdown",
   "metadata": {},
   "source": [
    "To examine the players' salaries, it would be much more helpful if the data were ordered by salary.\n",
    "\n",
    "To do this, we will first simplify the label of the column of salaries (just for convenience), and then sort by the new label `SALARY`. \n",
    "\n",
    "This arranges all the rows of the table in *increasing* order of salary, with the lowest salary appearing first. The output is a new table with the same columns as the original but with the rows rearranged."
   ]
  },
  {
   "cell_type": "code",
   "execution_count": 13,
   "metadata": {},
   "outputs": [
    {
     "ename": "ValueError",
     "evalue": "Invalid labels. Column labels must already exist in table in order to be replaced.",
     "output_type": "error",
     "traceback": [
      "\u001b[1;31m---------------------------------------------------------------------------\u001b[0m",
      "\u001b[1;31mValueError\u001b[0m                                Traceback (most recent call last)",
      "\u001b[1;32m~\\AppData\\Local\\Temp/ipykernel_7764/2950860996.py\u001b[0m in \u001b[0;36m<module>\u001b[1;34m\u001b[0m\n\u001b[1;32m----> 1\u001b[1;33m \u001b[0mnba\u001b[0m \u001b[1;33m=\u001b[0m \u001b[0mnba_salaries\u001b[0m\u001b[1;33m.\u001b[0m\u001b[0mrelabeled\u001b[0m\u001b[1;33m(\u001b[0m\u001b[1;34m\"'15-'16 SALARY\"\u001b[0m\u001b[1;33m,\u001b[0m \u001b[1;34m'SALARY'\u001b[0m\u001b[1;33m)\u001b[0m\u001b[1;33m\u001b[0m\u001b[1;33m\u001b[0m\u001b[0m\n\u001b[0m\u001b[0;32m      2\u001b[0m \u001b[0mnba\u001b[0m\u001b[1;33m.\u001b[0m\u001b[0msort\u001b[0m\u001b[1;33m(\u001b[0m\u001b[1;34m'SALARY'\u001b[0m\u001b[1;33m)\u001b[0m\u001b[1;33m\u001b[0m\u001b[1;33m\u001b[0m\u001b[0m\n",
      "\u001b[1;32mc:\\ProgramData\\Anaconda3\\lib\\site-packages\\datascience\\tables.py\u001b[0m in \u001b[0;36mrelabeled\u001b[1;34m(self, label, new_label)\u001b[0m\n\u001b[0;32m   2651\u001b[0m         \"\"\"\n\u001b[0;32m   2652\u001b[0m         \u001b[0mcopy\u001b[0m \u001b[1;33m=\u001b[0m \u001b[0mself\u001b[0m\u001b[1;33m.\u001b[0m\u001b[0mcopy\u001b[0m\u001b[1;33m(\u001b[0m\u001b[1;33m)\u001b[0m\u001b[1;33m\u001b[0m\u001b[1;33m\u001b[0m\u001b[0m\n\u001b[1;32m-> 2653\u001b[1;33m         \u001b[0mcopy\u001b[0m\u001b[1;33m.\u001b[0m\u001b[0mrelabel\u001b[0m\u001b[1;33m(\u001b[0m\u001b[0mlabel\u001b[0m\u001b[1;33m,\u001b[0m \u001b[0mnew_label\u001b[0m\u001b[1;33m)\u001b[0m\u001b[1;33m\u001b[0m\u001b[1;33m\u001b[0m\u001b[0m\n\u001b[0m\u001b[0;32m   2654\u001b[0m         \u001b[1;32mreturn\u001b[0m \u001b[0mcopy\u001b[0m\u001b[1;33m\u001b[0m\u001b[1;33m\u001b[0m\u001b[0m\n\u001b[0;32m   2655\u001b[0m \u001b[1;33m\u001b[0m\u001b[0m\n",
      "\u001b[1;32mc:\\ProgramData\\Anaconda3\\lib\\site-packages\\datascience\\tables.py\u001b[0m in \u001b[0;36mrelabel\u001b[1;34m(self, column_label, new_label)\u001b[0m\n\u001b[0;32m   1070\u001b[0m         \u001b[1;32mfor\u001b[0m \u001b[0mlabel\u001b[0m \u001b[1;32min\u001b[0m \u001b[0mcolumn_label\u001b[0m\u001b[1;33m:\u001b[0m\u001b[1;33m\u001b[0m\u001b[1;33m\u001b[0m\u001b[0m\n\u001b[0;32m   1071\u001b[0m             \u001b[1;32mif\u001b[0m \u001b[1;32mnot\u001b[0m \u001b[1;33m(\u001b[0m\u001b[0mlabel\u001b[0m \u001b[1;32min\u001b[0m \u001b[0mself\u001b[0m\u001b[1;33m.\u001b[0m\u001b[0mlabels\u001b[0m\u001b[1;33m)\u001b[0m\u001b[1;33m:\u001b[0m\u001b[1;33m\u001b[0m\u001b[1;33m\u001b[0m\u001b[0m\n\u001b[1;32m-> 1072\u001b[1;33m                 raise ValueError('Invalid labels. Column labels must '\n\u001b[0m\u001b[0;32m   1073\u001b[0m                 'already exist in table in order to be replaced.')\n\u001b[0;32m   1074\u001b[0m         \u001b[0mrewrite\u001b[0m \u001b[1;33m=\u001b[0m \u001b[1;32mlambda\u001b[0m \u001b[0ms\u001b[0m\u001b[1;33m:\u001b[0m \u001b[0mold_to_new\u001b[0m\u001b[1;33m[\u001b[0m\u001b[0ms\u001b[0m\u001b[1;33m]\u001b[0m \u001b[1;32mif\u001b[0m \u001b[0ms\u001b[0m \u001b[1;32min\u001b[0m \u001b[0mold_to_new\u001b[0m \u001b[1;32melse\u001b[0m \u001b[0ms\u001b[0m\u001b[1;33m\u001b[0m\u001b[1;33m\u001b[0m\u001b[0m\n",
      "\u001b[1;31mValueError\u001b[0m: Invalid labels. Column labels must already exist in table in order to be replaced."
     ]
    }
   ],
   "source": [
    "nba = nba_salaries.relabeled(\"'15-'16 SALARY\", 'SALARY')\n",
    "nba.sort('SALARY')"
   ]
  },
  {
   "cell_type": "markdown",
   "metadata": {},
   "source": [
    "These figures are somewhat difficult to compare as some of these players changed teams during the season and received salaries from more than one team; only the salary from the last team appears in the table. Point Guard Phil Pressey, for example, moved from Philadelphia to Phoenix during the year, and might be moving yet again to the Golden State Warriors. \n",
    "\n",
    "The CNN report is about the other end of the salary scale – the players who are among the highest paid in the world. \n",
    "\n",
    "To order the rows of the table in *decreasing* order of salary, we must use `sort` with the option `descending=True`."
   ]
  },
  {
   "cell_type": "code",
   "execution_count": 6,
   "metadata": {},
   "outputs": [
    {
     "data": {
      "text/html": [
       "<table border=\"1\" class=\"dataframe\">\n",
       "    <thead>\n",
       "        <tr>\n",
       "            <th>PLAYER</th> <th>POSITION</th> <th>TEAM</th> <th>SALARY</th>\n",
       "        </tr>\n",
       "    </thead>\n",
       "    <tbody>\n",
       "        <tr>\n",
       "            <td>Kobe Bryant    </td> <td>SF      </td> <td>Los Angeles Lakers   </td> <td>25     </td>\n",
       "        </tr>\n",
       "        <tr>\n",
       "            <td>Joe Johnson    </td> <td>SF      </td> <td>Brooklyn Nets        </td> <td>24.8949</td>\n",
       "        </tr>\n",
       "        <tr>\n",
       "            <td>LeBron James   </td> <td>SF      </td> <td>Cleveland Cavaliers  </td> <td>22.9705</td>\n",
       "        </tr>\n",
       "        <tr>\n",
       "            <td>Carmelo Anthony</td> <td>SF      </td> <td>New York Knicks      </td> <td>22.875 </td>\n",
       "        </tr>\n",
       "        <tr>\n",
       "            <td>Dwight Howard  </td> <td>C       </td> <td>Houston Rockets      </td> <td>22.3594</td>\n",
       "        </tr>\n",
       "        <tr>\n",
       "            <td>Chris Bosh     </td> <td>PF      </td> <td>Miami Heat           </td> <td>22.1927</td>\n",
       "        </tr>\n",
       "        <tr>\n",
       "            <td>Chris Paul     </td> <td>PG      </td> <td>Los Angeles Clippers </td> <td>21.4687</td>\n",
       "        </tr>\n",
       "        <tr>\n",
       "            <td>Kevin Durant   </td> <td>SF      </td> <td>Oklahoma City Thunder</td> <td>20.1586</td>\n",
       "        </tr>\n",
       "        <tr>\n",
       "            <td>Derrick Rose   </td> <td>PG      </td> <td>Chicago Bulls        </td> <td>20.0931</td>\n",
       "        </tr>\n",
       "        <tr>\n",
       "            <td>Dwyane Wade    </td> <td>SG      </td> <td>Miami Heat           </td> <td>20     </td>\n",
       "        </tr>\n",
       "    </tbody>\n",
       "</table>\n",
       "<p>... (407 rows omitted)</p>"
      ],
      "text/plain": [
       "PLAYER          | POSITION | TEAM                  | SALARY\n",
       "Kobe Bryant     | SF       | Los Angeles Lakers    | 25\n",
       "Joe Johnson     | SF       | Brooklyn Nets         | 24.8949\n",
       "LeBron James    | SF       | Cleveland Cavaliers   | 22.9705\n",
       "Carmelo Anthony | SF       | New York Knicks       | 22.875\n",
       "Dwight Howard   | C        | Houston Rockets       | 22.3594\n",
       "Chris Bosh      | PF       | Miami Heat            | 22.1927\n",
       "Chris Paul      | PG       | Los Angeles Clippers  | 21.4687\n",
       "Kevin Durant    | SF       | Oklahoma City Thunder | 20.1586\n",
       "Derrick Rose    | PG       | Chicago Bulls         | 20.0931\n",
       "Dwyane Wade     | SG       | Miami Heat            | 20\n",
       "... (407 rows omitted)"
      ]
     },
     "execution_count": 6,
     "metadata": {},
     "output_type": "execute_result"
    }
   ],
   "source": [
    "nba.sort('SALARY', descending=True)"
   ]
  },
  {
   "cell_type": "markdown",
   "metadata": {},
   "source": [
    "Kobe Bryant, in his final season with the Lakers, was the highest paid at a salary of $\\$25$ million. Notice that the MVP Stephen Curry doesn't appear among the top 10. He is quite a bit further down the list, as we will see later."
   ]
  },
  {
   "cell_type": "markdown",
   "metadata": {},
   "source": [
    "## Named Arguments\n",
    "\n",
    "The `descending=True` portion of this call expression is called a *named argument*. When a function or method is called, each argument has both a position and a name. Both are evident from the help text of a function or method."
   ]
  },
  {
   "cell_type": "code",
   "execution_count": 7,
   "metadata": {},
   "outputs": [
    {
     "name": "stdout",
     "output_type": "stream",
     "text": [
      "Help on method sort in module datascience.tables:\n",
      "\n",
      "sort(column_or_label, descending=False, distinct=False) method of datascience.tables.Table instance\n",
      "    Return a Table of rows sorted according to the values in a column.\n",
      "    \n",
      "    Args:\n",
      "        ``column_or_label``: the column whose values are used for sorting.\n",
      "    \n",
      "        ``descending``: if True, sorting will be in descending, rather than\n",
      "            ascending order.\n",
      "    \n",
      "        ``distinct``: if True, repeated values in ``column_or_label`` will\n",
      "            be omitted.\n",
      "    \n",
      "    Returns:\n",
      "        An instance of ``Table`` containing rows sorted based on the values\n",
      "        in ``column_or_label``.\n",
      "    \n",
      "    >>> marbles = Table().with_columns(\n",
      "    ...    \"Color\", make_array(\"Red\", \"Green\", \"Blue\", \"Red\", \"Green\", \"Green\"),\n",
      "    ...    \"Shape\", make_array(\"Round\", \"Rectangular\", \"Rectangular\", \"Round\", \"Rectangular\", \"Round\"),\n",
      "    ...    \"Amount\", make_array(4, 6, 12, 7, 9, 2),\n",
      "    ...    \"Price\", make_array(1.30, 1.30, 2.00, 1.75, 1.40, 1.00))\n",
      "    >>> marbles\n",
      "    Color | Shape       | Amount | Price\n",
      "    Red   | Round       | 4      | 1.3\n",
      "    Green | Rectangular | 6      | 1.3\n",
      "    Blue  | Rectangular | 12     | 2\n",
      "    Red   | Round       | 7      | 1.75\n",
      "    Green | Rectangular | 9      | 1.4\n",
      "    Green | Round       | 2      | 1\n",
      "    >>> marbles.sort(\"Amount\")\n",
      "    Color | Shape       | Amount | Price\n",
      "    Green | Round       | 2      | 1\n",
      "    Red   | Round       | 4      | 1.3\n",
      "    Green | Rectangular | 6      | 1.3\n",
      "    Red   | Round       | 7      | 1.75\n",
      "    Green | Rectangular | 9      | 1.4\n",
      "    Blue  | Rectangular | 12     | 2\n",
      "    >>> marbles.sort(\"Amount\", descending = True)\n",
      "    Color | Shape       | Amount | Price\n",
      "    Blue  | Rectangular | 12     | 2\n",
      "    Green | Rectangular | 9      | 1.4\n",
      "    Red   | Round       | 7      | 1.75\n",
      "    Green | Rectangular | 6      | 1.3\n",
      "    Red   | Round       | 4      | 1.3\n",
      "    Green | Round       | 2      | 1\n",
      "    >>> marbles.sort(3) # the Price column\n",
      "    Color | Shape       | Amount | Price\n",
      "    Green | Round       | 2      | 1\n",
      "    Red   | Round       | 4      | 1.3\n",
      "    Green | Rectangular | 6      | 1.3\n",
      "    Green | Rectangular | 9      | 1.4\n",
      "    Red   | Round       | 7      | 1.75\n",
      "    Blue  | Rectangular | 12     | 2\n",
      "    >>> marbles.sort(3, distinct = True)\n",
      "    Color | Shape       | Amount | Price\n",
      "    Green | Round       | 2      | 1\n",
      "    Red   | Round       | 4      | 1.3\n",
      "    Green | Rectangular | 9      | 1.4\n",
      "    Red   | Round       | 7      | 1.75\n",
      "    Blue  | Rectangular | 12     | 2\n",
      "\n"
     ]
    }
   ],
   "source": [
    "help(nba.sort)"
   ]
  },
  {
   "cell_type": "markdown",
   "metadata": {},
   "source": [
    "At the very top of this `help` text, the *signature* of the `sort` method appears:\n",
    "\n",
    "    sort(column_or_label, descending=False, distinct=False)\n",
    "    \n",
    "This describes the positions, names, and default values of the three arguments to `sort`. When calling this method, you can use either positional arguments or named arguments, so the following three calls do exactly the same thing.\n",
    "\n",
    "    sort('SALARY', True)\n",
    "    sort('SALARY', descending=True)\n",
    "    sort(column_or_label='SALARY', descending=True)\n",
    "    \n",
    "When an argument is simply `True` or `False`, it's a useful convention to include the argument name so that it's more obvious what the argument value means."
   ]
  }
 ],
 "metadata": {
  "anaconda-cloud": {},
  "kernelspec": {
   "display_name": "Python 3.9.7 ('base')",
   "language": "python",
   "name": "python3"
  },
  "language_info": {
   "codemirror_mode": {
    "name": "ipython",
    "version": 3
   },
   "file_extension": ".py",
   "mimetype": "text/x-python",
   "name": "python",
   "nbconvert_exporter": "python",
   "pygments_lexer": "ipython3",
   "version": "3.9.7"
  },
  "vscode": {
   "interpreter": {
    "hash": "ad2bdc8ecc057115af97d19610ffacc2b4e99fae6737bb82f5d7fb13d2f2c186"
   }
  }
 },
 "nbformat": 4,
 "nbformat_minor": 2
}
