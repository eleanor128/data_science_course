{
 "cells": [
  {
   "cell_type": "code",
   "execution_count": 1,
   "metadata": {},
   "outputs": [],
   "source": [
    "import numpy as np\n",
    "import matplotlib.pyplot as plt\n",
    "from time import time\n"
   ]
  },
  {
   "cell_type": "code",
   "execution_count": 2,
   "metadata": {},
   "outputs": [],
   "source": [
    "def get_calories_burned(lower_temp, upper_temp, avg_tol, sd_tol, avg_calories_burned):\n",
    "    temp = np.random.uniform(lower_temp, upper_temp)\n",
    "    tol = np.random.normal(avg_tol, sd_tol)\n",
    "    if temp > tol:\n",
    "        cals = np.random.exponential(avg_calories_burned)\n",
    "    else:\n",
    "        cals = 0\n",
    "    return cals\n"
   ]
  },
  {
   "cell_type": "code",
   "execution_count": 11,
   "metadata": {},
   "outputs": [
    {
     "name": "stdout",
     "output_type": "stream",
     "text": [
      "4.508170127868652\n"
     ]
    }
   ],
   "source": [
    "num_days = 1000000\n",
    "daily_calories = []\n",
    "start = time()\n",
    "for _ in range(num_days):\n",
    "    cals = get_calories_burned(40, 60, 55, 5, 200)\n",
    "    daily_calories.append(cals)\n",
    "end = time()\n",
    "print(end - start)\n"
   ]
  },
  {
   "cell_type": "code",
   "execution_count": 12,
   "metadata": {},
   "outputs": [
    {
     "data": {
      "text/plain": [
       "Text(0.5, 1.0, '53.99837867422785')"
      ]
     },
     "execution_count": 12,
     "metadata": {},
     "output_type": "execute_result"
    },
    {
     "data": {
      "image/png": "[encoded data removed]",
      "text/plain": [
       "<Figure size 432x288 with 1 Axes>"
      ]
     },
     "metadata": {
      "needs_background": "light"
     },
     "output_type": "display_data"
    }
   ],
   "source": [
    "plt.hist(daily_calories)\n",
    "plt.title(np.mean(daily_calories))\n"
   ]
  },
  {
   "cell_type": "code",
   "execution_count": 13,
   "metadata": {},
   "outputs": [
    {
     "name": "stdout",
     "output_type": "stream",
     "text": [
      "0.729372\n"
     ]
    }
   ],
   "source": [
    "# What % of days I don't run.\n",
    "print(len([i for i in daily_calories if i==0]) / num_days)\n"
   ]
  },
  {
   "cell_type": "markdown",
   "metadata": {},
   "source": [
    "# More efficient method - vectorization"
   ]
  },
  {
   "cell_type": "code",
   "execution_count": 14,
   "metadata": {},
   "outputs": [
    {
     "name": "stdout",
     "output_type": "stream",
     "text": [
      "0.0798790454864502\n"
     ]
    }
   ],
   "source": [
    "start = time()\n",
    "temps = np.random.uniform(40, 60, num_days)\n",
    "tols = np.random.normal(55, 5, num_days)\n",
    "daily_calories = np.random.exponential(200, num_days)\n",
    "daily_calories[temps < tols] = 0\n",
    "end = time()\n",
    "print(end - start)\n"
   ]
  },
  {
   "cell_type": "code",
   "execution_count": 15,
   "metadata": {},
   "outputs": [
    {
     "data": {
      "text/plain": [
       "Text(0.5, 1.0, '54.29923087576594')"
      ]
     },
     "execution_count": 15,
     "metadata": {},
     "output_type": "execute_result"
    },
    {
     "data": {
      "image/png": "[encoded data removed]",
      "text/plain": [
       "<Figure size 432x288 with 1 Axes>"
      ]
     },
     "metadata": {
      "needs_background": "light"
     },
     "output_type": "display_data"
    }
   ],
   "source": [
    "plt.hist(daily_calories)\n",
    "plt.title(np.mean(daily_calories))\n"
   ]
  },
  {
   "cell_type": "code",
   "execution_count": 16,
   "metadata": {},
   "outputs": [
    {
     "name": "stdout",
     "output_type": "stream",
     "text": [
      "0.728514\n"
     ]
    }
   ],
   "source": [
    "# What % of days I don't run.\n",
    "print(len([i for i in daily_calories if i==0]) / num_days)\n"
   ]
  },
  {
   "cell_type": "code",
   "execution_count": null,
   "metadata": {},
   "outputs": [],
   "source": []
  }
 ],
 "metadata": {
  "kernelspec": {
   "display_name": "Python 3",
   "language": "python",
   "name": "python3"
  },
  "language_info": {
   "codemirror_mode": {
    "name": "ipython",
    "version": 3
   },
   "file_extension": ".py",
   "mimetype": "text/x-python",
   "name": "python",
   "nbconvert_exporter": "python",
   "pygments_lexer": "ipython3",
   "version": "3.7.9"
  }
 },
 "nbformat": 4,
 "nbformat_minor": 4
}
