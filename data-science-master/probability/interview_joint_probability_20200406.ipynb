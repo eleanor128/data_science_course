{
 "cells": [
  {
   "cell_type": "code",
   "execution_count": 2,
   "metadata": {},
   "outputs": [],
   "source": [
    "from __future__ import division\n",
    "import numpy as np\n",
    "import pandas as pd\n",
    "import matplotlib.pyplot as plt\n",
    "import seaborn as sns\n",
    "import pymc3 as pm\n",
    "import sys\n"
   ]
  },
  {
   "cell_type": "code",
   "execution_count": 4,
   "metadata": {},
   "outputs": [
    {
     "name": "stdout",
     "output_type": "stream",
     "text": [
      "0.360298\n"
     ]
    }
   ],
   "source": [
    "\"\"\"\n",
    "2 jobs are launched randomly and uniformly every night between 7-12 AM.  \n",
    "Each job lasts 1 hour.  \n",
    "What’s the probability that the 2 jobs overlap each other?\n",
    "\"\"\"\n",
    "time_start = 7\n",
    "time_end = 12\n",
    "N = 1000000\n",
    "np.random.seed(123)\n",
    "overlap = 0\n",
    "for i in range(0, N):\n",
    "    samp = sorted(np.random.uniform(low=time_start, high=time_end, size=(2,)))\n",
    "    a_low = samp[0]\n",
    "    a_high = samp[0] + 1.0\n",
    "    b_low = samp[1]\n",
    "    if a_high > b_low:\n",
    "        overlap += 1\n",
    "\n",
    "pr_overlap = 1.0 * overlap / N\n",
    "print(pr_overlap)\n"
   ]
  },
  {
   "cell_type": "code",
   "execution_count": null,
   "metadata": {},
   "outputs": [],
   "source": []
  }
 ],
 "metadata": {
  "kernelspec": {
   "display_name": "Python 3",
   "language": "python",
   "name": "python3"
  },
  "language_info": {
   "codemirror_mode": {
    "name": "ipython",
    "version": 3
   },
   "file_extension": ".py",
   "mimetype": "text/x-python",
   "name": "python",
   "nbconvert_exporter": "python",
   "pygments_lexer": "ipython3",
   "version": "3.7.6"
  }
 },
 "nbformat": 4,
 "nbformat_minor": 4
}
