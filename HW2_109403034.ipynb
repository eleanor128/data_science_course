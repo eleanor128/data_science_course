{
  "nbformat": 4,
  "nbformat_minor": 0,
  "metadata": {
    "colab": {
      "provenance": []
    },
    "kernelspec": {
      "name": "python3",
      "display_name": "Python 3"
    },
    "language_info": {
      "name": "python"
    }
  },
  "cells": [
    {
      "cell_type": "markdown",
      "source": [
        "Write a function that takes in a string and determines whether it is a palindrome.  Ignore casing, punctuation, and spaces. \n",
        "* “palindrome” is a word, phrase, or sequence that reads the same backward as forward \n",
        "* Ex: “aaabbaaa” - True \n",
        "* Ex: “Mr. Owl ate my metal worm” - True \n",
        "* Ex: “abcd” - False"
      ],
      "metadata": {
        "id": "-IHIN2LeFCEV"
      }
    },
    {
      "cell_type": "code",
      "execution_count": 14,
      "metadata": {
        "id": "EdP2EKWZE8Qn",
        "colab": {
          "base_uri": "https://localhost:8080/"
        },
        "outputId": "9c1786f5-6a7b-48ba-e848-43df262ed1f8"
      },
      "outputs": [
        {
          "output_type": "stream",
          "name": "stdout",
          "text": [
            "aaabbaaa - True\n",
            "Mr.Owl ate my metal worm - True\n",
            "abcd - False\n"
          ]
        }
      ],
      "source": [
        "def isPalindrome(string):\n",
        "  string = string.lower().replace(\" \", \"\") # ignore the case and space\n",
        "  string = string.replace(\".\", \"\") # ignore the \".\" \n",
        "  if(string == string[::-1]): # reverse the string\n",
        "    return \"True\"\n",
        "  else:\n",
        "    return \"False\"\n",
        " \n",
        "string = \"aaabbaaa\"\n",
        "print(string,\"-\",isPalindrome(string))\n",
        " \n",
        "string = \"Mr.Owl ate my metal worm\"\n",
        "# isPalindrome(string)\n",
        "print(string,\"-\",isPalindrome(string))\n",
        "\n",
        "string = \"abcd\"\n",
        "# isPalindrome(string)\n",
        "print(string,\"-\",isPalindrome(string))"
      ]
    },
    {
      "cell_type": "markdown",
      "source": [
        "Roulette is a casino game.  For simplicity, we only allow betting on numbers.  One number at a time.  The following is such a Python implementation.  Let’s bet $1 on pocket number 7.\n",
        "* Please complete the expectedReturn (the statement located in the next to the last line). \n",
        "* Please report out the simulation results after completing the expectedReturn. \n",
        "* Please calculate the analytical answer of the expected return. \n"
      ],
      "metadata": {
        "id": "_mJLhIKQNBQN"
      }
    },
    {
      "cell_type": "code",
      "source": [
        "import random\n",
        "\n",
        "class MyRoulette():\n",
        "    def __init__(self):\n",
        "        self.pockets = []\n",
        "        for i in range(1, 37):\n",
        "            self.pockets.append(i)\n",
        "        self.ball = None\n",
        "        self.pocketOdds = len(self.pockets) - 1\n",
        "    def spin(self):\n",
        "        self.ball = random.choice(self.pockets)\n",
        "    def betPocket(self, pocket, amt):\n",
        "        if str(pocket) == str(self.ball):\n",
        "            return amt*self.pocketOdds\n",
        "        else: return -amt\n",
        "    def __str__(self):\n",
        "        return 'My Roulette'\n",
        "\n",
        "def playRoulette(game, numSpins, pocket, bet, toPrint):\n",
        "    totPocket = 0\n",
        "    for i in range(numSpins):\n",
        "        game.spin()\n",
        "        totPocket += game.betPocket(pocket, bet)\n",
        "    if toPrint:\n",
        "        print(numSpins, 'spins of', game)\n",
        "        print('Expected return betting', pocket, '=',\\\n",
        "              str(100*totPocket/numSpins) + '%\\n')\n",
        "    return (totPocket/numSpins)\n",
        "\n",
        "# 回傳該輪轉到哪些數字\n",
        "def findPocketReturn(game, numTrials, trialSize, toPrint, pocket, bet):\n",
        "    pocketReturns = []\n",
        "    for t in range(numTrials):\n",
        "        trialVals = playRoulette(game, trialSize, pocket, bet, toPrint)\n",
        "        pocketReturns.append(trialVals)\n",
        "    return pocketReturns\n",
        "\n",
        "# Monte Carlo simulation begins.\n",
        "random.seed(0)\n",
        "numTrials = 20\n",
        "# Instantiate the Roulette game. \n",
        "game = MyRoulette()\n",
        "myPocket = 7\n",
        "myBet = 1\n",
        "for numSpins in (1000, 10000, 100000, 1000000):\n",
        "    print('\\nSimulate', numTrials, 'trials of', numSpins, 'spins each')\n",
        "    # The list of my simulation results.\n",
        "    pocketReturns = findPocketReturn(game, numTrials, numSpins, False, myPocket, myBet)\n",
        "    # Please implement the following one-liner, the expected return.\n",
        "    expReturn = sum(pocketReturns) / numTrials * myBet * 100 # 小數要換成%\n",
        "    print('Exp. return for', game, '=', str(round(expReturn, 4)) + '%')\n"
      ],
      "metadata": {
        "colab": {
          "base_uri": "https://localhost:8080/"
        },
        "id": "1Q5jJVtKNAC4",
        "outputId": "51564ff4-eb65-4d2e-e40d-6d033dbf9bfe"
      },
      "execution_count": 15,
      "outputs": [
        {
          "output_type": "stream",
          "name": "stdout",
          "text": [
            "\n",
            "Simulate 20 trials of 1000 spins each\n",
            "Exp. return for My Roulette = 5.12%\n",
            "\n",
            "Simulate 20 trials of 10000 spins each\n",
            "Exp. return for My Roulette = 0.836%\n",
            "\n",
            "Simulate 20 trials of 100000 spins each\n",
            "Exp. return for My Roulette = 0.3122%\n",
            "\n",
            "Simulate 20 trials of 1000000 spins each\n",
            "Exp. return for My Roulette = 0.0474%\n"
          ]
        }
      ]
    }
  ]
}