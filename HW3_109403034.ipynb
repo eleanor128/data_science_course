{
  "cells": [
    {
      "cell_type": "markdown",
      "id": "4e65ebcf",
      "metadata": {
        "id": "4e65ebcf"
      },
      "source": [
        "# Homework 3\n",
        "Total 120 points."
      ]
    },
    {
      "cell_type": "code",
      "execution_count": 1,
      "id": "ac0ec56a",
      "metadata": {
        "id": "ac0ec56a"
      },
      "outputs": [],
      "source": [
        "from datascience import *\n",
        "import numpy as np\n",
        "import matplotlib\n",
        "matplotlib.use('Agg')\n",
        "%matplotlib inline\n",
        "import matplotlib.pyplot as plt\n",
        "plt.style.use('fivethirtyeight')\n"
      ]
    },
    {
      "cell_type": "markdown",
      "id": "bd78236f",
      "metadata": {
        "id": "bd78236f"
      },
      "source": [
        "The next cell loads a table containing information about every earthquake with a magnitude above 5 in 2019 (smaller earthquakes are generally not felt, only recorded by very sensitive equipment), compiled by the US Geological Survey. (source: https://earthquake.usgs.gov/earthquakes/search/)\n"
      ]
    },
    {
      "cell_type": "code",
      "execution_count": 2,
      "id": "915c20a6",
      "metadata": {
        "id": "915c20a6",
        "outputId": "607e8ede-00ef-4e85-c580-c4c555239ed5",
        "colab": {
          "base_uri": "https://localhost:8080/",
          "height": 392
        }
      },
      "outputs": [
        {
          "output_type": "execute_result",
          "data": {
            "text/plain": [
              "time                     | mag  | place\n",
              "2019-12-31T11:22:49.734Z | 5    | 245km S of L'Esperance Rock, New Zealand\n",
              "2019-12-30T17:49:59.468Z | 5    | 37km NNW of Idgah, Pakistan\n",
              "2019-12-30T17:18:57.350Z | 5.5  | 34km NW of Idgah, Pakistan\n",
              "2019-12-30T13:49:45.227Z | 5.4  | 33km NE of Bandar 'Abbas, Iran\n",
              "2019-12-30T04:11:09.987Z | 5.2  | 103km NE of Chichi-shima, Japan\n",
              "2019-12-29T18:24:41.656Z | 5.2  | Southwest of Africa\n",
              "2019-12-29T13:59:02.410Z | 5.1  | 138km SSW of Kokopo, Papua New Guinea\n",
              "2019-12-29T09:12:15.010Z | 5.2  | 79km S of Sarangani, Philippines\n",
              "2019-12-29T01:06:00.130Z | 5    | 9km S of Indios, Puerto Rico\n",
              "2019-12-28T22:49:15.959Z | 5.2  | 128km SSE of Raoul Island, New Zealand\n",
              "... (1626 rows omitted)"
            ],
            "text/html": [
              "<table border=\"1\" class=\"dataframe\">\n",
              "    <thead>\n",
              "        <tr>\n",
              "            <th>time</th> <th>mag</th> <th>place</th>\n",
              "        </tr>\n",
              "    </thead>\n",
              "    <tbody>\n",
              "        <tr>\n",
              "            <td>2019-12-31T11:22:49.734Z</td> <td>5   </td> <td>245km S of L'Esperance Rock, New Zealand</td>\n",
              "        </tr>\n",
              "        <tr>\n",
              "            <td>2019-12-30T17:49:59.468Z</td> <td>5   </td> <td>37km NNW of Idgah, Pakistan             </td>\n",
              "        </tr>\n",
              "        <tr>\n",
              "            <td>2019-12-30T17:18:57.350Z</td> <td>5.5 </td> <td>34km NW of Idgah, Pakistan              </td>\n",
              "        </tr>\n",
              "        <tr>\n",
              "            <td>2019-12-30T13:49:45.227Z</td> <td>5.4 </td> <td>33km NE of Bandar 'Abbas, Iran          </td>\n",
              "        </tr>\n",
              "        <tr>\n",
              "            <td>2019-12-30T04:11:09.987Z</td> <td>5.2 </td> <td>103km NE of Chichi-shima, Japan         </td>\n",
              "        </tr>\n",
              "        <tr>\n",
              "            <td>2019-12-29T18:24:41.656Z</td> <td>5.2 </td> <td>Southwest of Africa                     </td>\n",
              "        </tr>\n",
              "        <tr>\n",
              "            <td>2019-12-29T13:59:02.410Z</td> <td>5.1 </td> <td>138km SSW of Kokopo, Papua New Guinea   </td>\n",
              "        </tr>\n",
              "        <tr>\n",
              "            <td>2019-12-29T09:12:15.010Z</td> <td>5.2 </td> <td>79km S of Sarangani, Philippines        </td>\n",
              "        </tr>\n",
              "        <tr>\n",
              "            <td>2019-12-29T01:06:00.130Z</td> <td>5   </td> <td>9km S of Indios, Puerto Rico            </td>\n",
              "        </tr>\n",
              "        <tr>\n",
              "            <td>2019-12-28T22:49:15.959Z</td> <td>5.2 </td> <td>128km SSE of Raoul Island, New Zealand  </td>\n",
              "        </tr>\n",
              "    </tbody>\n",
              "</table>\n",
              "<p>... (1626 rows omitted)</p>"
            ]
          },
          "metadata": {},
          "execution_count": 2
        }
      ],
      "source": [
        "earthquakes = Table().read_table('https://raw.githubusercontent.com/yu-to-chen/data-science/master/assets/data/earthquakes_2019.csv').select(['time', 'mag', 'place'])\n",
        "earthquakes\n",
        "\n"
      ]
    },
    {
      "cell_type": "markdown",
      "id": "9b0f0a5f",
      "metadata": {
        "id": "9b0f0a5f"
      },
      "source": [
        "In the following lines of code, we take two different samples from the earthquake table, and calculate the mean of the magnitudes of these earthquakes."
      ]
    },
    {
      "cell_type": "code",
      "execution_count": 3,
      "id": "91c0ed75",
      "metadata": {
        "id": "91c0ed75",
        "outputId": "9602b53e-3de4-4b9d-ab9c-5e8053f29fef",
        "colab": {
          "base_uri": "https://localhost:8080/"
        }
      },
      "outputs": [
        {
          "output_type": "execute_result",
          "data": {
            "text/plain": [
              "[6.4589999999999987, 5.2790000000000008]"
            ]
          },
          "metadata": {},
          "execution_count": 3
        }
      ],
      "source": [
        "sample1 = earthquakes.sort('mag', descending = True).take(np.arange(100))\n",
        "sample1_magnitude_mean = np.mean(sample1.column('mag'))\n",
        "sample2 = earthquakes.take(np.arange(100))\n",
        "sample2_magnitude_mean = np.mean(sample2.column('mag'))\n",
        "[sample1_magnitude_mean, sample2_magnitude_mean]\n"
      ]
    },
    {
      "cell_type": "markdown",
      "id": "0d8f95f5",
      "metadata": {
        "id": "0d8f95f5"
      },
      "source": [
        "# Question 1. \n",
        "(20 points)\n",
        "- Are these samples representative of the population of earthquakes in the original table (that is, the should we expect the mean to be close to the population mean)?\n",
        "\n",
        "- Hint: Consider the ordering of the earthquakes table.\n",
        "--- \n",
        "Ans: The mean of sample2 is more closer to the population mean, because\n",
        "the data of sample2 isn't be sorted. Sample1 has been been sorted in descending order, so \n",
        "the calculated mean is for the highest 100 earthquakes, not the normal population."
      ]
    },
    {
      "cell_type": "markdown",
      "id": "4194933b",
      "metadata": {
        "id": "4194933b"
      },
      "source": [
        "# Question 2. \n",
        "(20 points)\n",
        "- Write code to produce a sample of size 200 that is representative of the population. Then, take the mean of the magnitudes of the earthquakes in this sample. Assign these to representative_sample and representative_mean respectively.\n",
        "- Hint: In class, we learned what kind of samples should be used to properly represent the population."
      ]
    },
    {
      "cell_type": "code",
      "source": [
        "shuffled_labels = earthquakes.sample(with_replacement=False).column('mag')\n",
        "ans = shuffled_labels.take(np.arange(200))\n",
        "np.mean(ans)"
      ],
      "metadata": {
        "colab": {
          "base_uri": "https://localhost:8080/"
        },
        "id": "x-mwz0Gr2BrT",
        "outputId": "550969fb-2509-4a47-b273-4253d26fa664"
      },
      "id": "x-mwz0Gr2BrT",
      "execution_count": 4,
      "outputs": [
        {
          "output_type": "execute_result",
          "data": {
            "text/plain": [
              "5.3157000000000005"
            ]
          },
          "metadata": {},
          "execution_count": 4
        }
      ]
    },
    {
      "cell_type": "markdown",
      "id": "0172d34d",
      "metadata": {
        "id": "0172d34d"
      },
      "source": [
        "# Question 3. \n",
        "(20 points)\n",
        "- Suppose we want to figure out what the biggest magnitude earthquake was in 2019, but we only have our representative sample of 200. Let’s see if trying to find the biggest magnitude in the population from a random sample of 200 is a reasonable idea!\n",
        "- Write code that takes many random samples from the earthquakes table and finds the maximum of each sample. You should take a random sample of size 200 and do this 5000 times. Assign the array of maximum magnitudes you find to maximums."
      ]
    },
    {
      "cell_type": "code",
      "source": [
        "maximums = []\n",
        "for i in range(5000):\n",
        "  shuffled_labels2 = earthquakes.sample(with_replacement=False).column('mag')\n",
        "  maximums.append(np.max(shuffled_labels2.take(np.arange(200)))) \n",
        "np.max(maximums)"
      ],
      "metadata": {
        "colab": {
          "base_uri": "https://localhost:8080/"
        },
        "id": "xH2MjjDhNawv",
        "outputId": "4064857a-a539-43e3-8c8a-258ede7c64f3"
      },
      "id": "xH2MjjDhNawv",
      "execution_count": 5,
      "outputs": [
        {
          "output_type": "execute_result",
          "data": {
            "text/plain": [
              "8.0"
            ]
          },
          "metadata": {},
          "execution_count": 5
        }
      ]
    },
    {
      "cell_type": "markdown",
      "id": "9b8429fa",
      "metadata": {
        "id": "9b8429fa"
      },
      "source": [
        "# Question 4. \n",
        "(20 points)\n",
        "- Run the following code to plot its histogram."
      ]
    },
    {
      "cell_type": "code",
      "execution_count": 6,
      "id": "41a23622",
      "metadata": {
        "id": "41a23622",
        "colab": {
          "base_uri": "https://localhost:8080/",
          "height": 301
        },
        "outputId": "121e4795-422c-4aca-f34a-0e58dd1ae06f"
      },
      "outputs": [
        {
          "output_type": "display_data",
          "data": {
            "text/plain": [
              "<Figure size 432x288 with 1 Axes>"
            ],
            "image/png": "[encoded data removed]"
          },
          "metadata": {}
        }
      ],
      "source": [
        "# Histogram of your maximums\n",
        "Table().with_column('Largest magnitude in sample', maximums).hist('Largest magnitude in sample')"
      ]
    },
    {
      "cell_type": "markdown",
      "id": "76649a69",
      "metadata": {
        "id": "76649a69"
      },
      "source": [
        "# Question 5. \n",
        "(20 points)\n",
        "- Now find the magnitude of the actual strongest earthquake in 2019 (not the maximum of a sample). \n",
        "- This will help us determine whether a random sample of size 200 is likely to help you determine the largest magnitude earthquake in the population."
      ]
    },
    {
      "cell_type": "code",
      "source": [
        "sort = earthquakes.sort('mag', descending = True).take(np.arange(1))\n",
        "sort.column('mag').item(0)"
      ],
      "metadata": {
        "colab": {
          "base_uri": "https://localhost:8080/"
        },
        "id": "MYoRlif-fGPy",
        "outputId": "3a325dda-2f62-4574-b03a-e78bcfe052da"
      },
      "id": "MYoRlif-fGPy",
      "execution_count": 7,
      "outputs": [
        {
          "output_type": "execute_result",
          "data": {
            "text/plain": [
              "8.0"
            ]
          },
          "metadata": {},
          "execution_count": 7
        }
      ]
    },
    {
      "cell_type": "markdown",
      "id": "bc605930",
      "metadata": {
        "id": "bc605930"
      },
      "source": [
        "# Question 6. \n",
        "(20 points)\n",
        "- Explain whether you believe you can accurately use a sample size of 200 to determine the maximum. \n",
        "- What is one problem with using the maximum as your estimator? Use the histogram above to help answer.\n",
        "---\n",
        "Ans:\n",
        "I believe this method can accurately determine the maximum of the sample if we repeat enough times. \n",
        "According to the table, we have 1636 records. So if there’s only one maximum magnitude, the probability that we didn’t select the maximum magnitude is 0.87775 (C(1635,200) / C(1636,200) = 1.957038978 E+262 /  2.229607081 E+262).\n",
        "But we repeated the selecting process 5000 times, so the probability of not selecting the maximum magnitude became approximately 0. Thus, I believe I can accurately \n",
        "determine the maximum with this method.\n",
        "\n",
        "The problem is that the result will be wrong if we haven’t  repeated it enough times . It can be easily seen that most of the results are between 7~7.75, instead of 8. And it is also very time consuming, it tooks me up to 30 seconds every time I run the code.\n",
        "\n",
        "\n"
      ]
    }
  ],
  "metadata": {
    "kernelspec": {
      "display_name": "Python 3 (ipykernel)",
      "language": "python",
      "name": "python3"
    },
    "language_info": {
      "codemirror_mode": {
        "name": "ipython",
        "version": 3
      },
      "file_extension": ".py",
      "mimetype": "text/x-python",
      "name": "python",
      "nbconvert_exporter": "python",
      "pygments_lexer": "ipython3",
      "version": "3.9.6"
    },
    "colab": {
      "provenance": []
    }
  },
  "nbformat": 4,
  "nbformat_minor": 5
}